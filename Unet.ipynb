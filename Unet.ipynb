{
  "nbformat": 4,
  "nbformat_minor": 0,
  "metadata": {
    "colab": {
      "name": "Unet.ipynb",
      "provenance": []
    },
    "kernelspec": {
      "name": "python3",
      "display_name": "Python 3"
    },
    "accelerator": "GPU",
    "widgets": {
      "application/vnd.jupyter.widget-state+json": {
        "237de72ffbd94eac8e5b846390f8ee6e": {
          "model_module": "@jupyter-widgets/controls",
          "model_name": "HBoxModel",
          "state": {
            "_view_name": "HBoxView",
            "_dom_classes": [],
            "_model_name": "HBoxModel",
            "_view_module": "@jupyter-widgets/controls",
            "_model_module_version": "1.5.0",
            "_view_count": null,
            "_view_module_version": "1.5.0",
            "box_style": "",
            "layout": "IPY_MODEL_ac3934e048a348ea866b073cdf91070e",
            "_model_module": "@jupyter-widgets/controls",
            "children": [
              "IPY_MODEL_023a4fb4089e4dc7aba4dee0c371182d",
              "IPY_MODEL_84d9bd7025544e9abbca6813eabe2781"
            ]
          }
        },
        "ac3934e048a348ea866b073cdf91070e": {
          "model_module": "@jupyter-widgets/base",
          "model_name": "LayoutModel",
          "state": {
            "_view_name": "LayoutView",
            "grid_template_rows": null,
            "right": null,
            "justify_content": null,
            "_view_module": "@jupyter-widgets/base",
            "overflow": null,
            "_model_module_version": "1.2.0",
            "_view_count": null,
            "flex_flow": null,
            "width": null,
            "min_width": null,
            "border": null,
            "align_items": null,
            "bottom": null,
            "_model_module": "@jupyter-widgets/base",
            "top": null,
            "grid_column": null,
            "overflow_y": null,
            "overflow_x": null,
            "grid_auto_flow": null,
            "grid_area": null,
            "grid_template_columns": null,
            "flex": null,
            "_model_name": "LayoutModel",
            "justify_items": null,
            "grid_row": null,
            "max_height": null,
            "align_content": null,
            "visibility": null,
            "align_self": null,
            "height": null,
            "min_height": null,
            "padding": null,
            "grid_auto_rows": null,
            "grid_gap": null,
            "max_width": null,
            "order": null,
            "_view_module_version": "1.2.0",
            "grid_template_areas": null,
            "object_position": null,
            "object_fit": null,
            "grid_auto_columns": null,
            "margin": null,
            "display": null,
            "left": null
          }
        },
        "023a4fb4089e4dc7aba4dee0c371182d": {
          "model_module": "@jupyter-widgets/controls",
          "model_name": "FloatProgressModel",
          "state": {
            "_view_name": "ProgressView",
            "style": "IPY_MODEL_be3602da49c74fa39ca634b59efd7b7a",
            "_dom_classes": [],
            "description": "100%",
            "_model_name": "FloatProgressModel",
            "bar_style": "success",
            "max": 46827520,
            "_view_module": "@jupyter-widgets/controls",
            "_model_module_version": "1.5.0",
            "value": 46827520,
            "_view_count": null,
            "_view_module_version": "1.5.0",
            "orientation": "horizontal",
            "min": 0,
            "description_tooltip": null,
            "_model_module": "@jupyter-widgets/controls",
            "layout": "IPY_MODEL_b0999dba18154c939adde87e5392b782"
          }
        },
        "84d9bd7025544e9abbca6813eabe2781": {
          "model_module": "@jupyter-widgets/controls",
          "model_name": "HTMLModel",
          "state": {
            "_view_name": "HTMLView",
            "style": "IPY_MODEL_fc902fe08ccf43a0b90007f132050035",
            "_dom_classes": [],
            "description": "",
            "_model_name": "HTMLModel",
            "placeholder": "​",
            "_view_module": "@jupyter-widgets/controls",
            "_model_module_version": "1.5.0",
            "value": " 44.7M/44.7M [01:45&lt;00:00, 443kB/s]",
            "_view_count": null,
            "_view_module_version": "1.5.0",
            "description_tooltip": null,
            "_model_module": "@jupyter-widgets/controls",
            "layout": "IPY_MODEL_def741b02efc420a9e211d88d1672fdf"
          }
        },
        "be3602da49c74fa39ca634b59efd7b7a": {
          "model_module": "@jupyter-widgets/controls",
          "model_name": "ProgressStyleModel",
          "state": {
            "_view_name": "StyleView",
            "_model_name": "ProgressStyleModel",
            "description_width": "initial",
            "_view_module": "@jupyter-widgets/base",
            "_model_module_version": "1.5.0",
            "_view_count": null,
            "_view_module_version": "1.2.0",
            "bar_color": null,
            "_model_module": "@jupyter-widgets/controls"
          }
        },
        "b0999dba18154c939adde87e5392b782": {
          "model_module": "@jupyter-widgets/base",
          "model_name": "LayoutModel",
          "state": {
            "_view_name": "LayoutView",
            "grid_template_rows": null,
            "right": null,
            "justify_content": null,
            "_view_module": "@jupyter-widgets/base",
            "overflow": null,
            "_model_module_version": "1.2.0",
            "_view_count": null,
            "flex_flow": null,
            "width": null,
            "min_width": null,
            "border": null,
            "align_items": null,
            "bottom": null,
            "_model_module": "@jupyter-widgets/base",
            "top": null,
            "grid_column": null,
            "overflow_y": null,
            "overflow_x": null,
            "grid_auto_flow": null,
            "grid_area": null,
            "grid_template_columns": null,
            "flex": null,
            "_model_name": "LayoutModel",
            "justify_items": null,
            "grid_row": null,
            "max_height": null,
            "align_content": null,
            "visibility": null,
            "align_self": null,
            "height": null,
            "min_height": null,
            "padding": null,
            "grid_auto_rows": null,
            "grid_gap": null,
            "max_width": null,
            "order": null,
            "_view_module_version": "1.2.0",
            "grid_template_areas": null,
            "object_position": null,
            "object_fit": null,
            "grid_auto_columns": null,
            "margin": null,
            "display": null,
            "left": null
          }
        },
        "fc902fe08ccf43a0b90007f132050035": {
          "model_module": "@jupyter-widgets/controls",
          "model_name": "DescriptionStyleModel",
          "state": {
            "_view_name": "StyleView",
            "_model_name": "DescriptionStyleModel",
            "description_width": "",
            "_view_module": "@jupyter-widgets/base",
            "_model_module_version": "1.5.0",
            "_view_count": null,
            "_view_module_version": "1.2.0",
            "_model_module": "@jupyter-widgets/controls"
          }
        },
        "def741b02efc420a9e211d88d1672fdf": {
          "model_module": "@jupyter-widgets/base",
          "model_name": "LayoutModel",
          "state": {
            "_view_name": "LayoutView",
            "grid_template_rows": null,
            "right": null,
            "justify_content": null,
            "_view_module": "@jupyter-widgets/base",
            "overflow": null,
            "_model_module_version": "1.2.0",
            "_view_count": null,
            "flex_flow": null,
            "width": null,
            "min_width": null,
            "border": null,
            "align_items": null,
            "bottom": null,
            "_model_module": "@jupyter-widgets/base",
            "top": null,
            "grid_column": null,
            "overflow_y": null,
            "overflow_x": null,
            "grid_auto_flow": null,
            "grid_area": null,
            "grid_template_columns": null,
            "flex": null,
            "_model_name": "LayoutModel",
            "justify_items": null,
            "grid_row": null,
            "max_height": null,
            "align_content": null,
            "visibility": null,
            "align_self": null,
            "height": null,
            "min_height": null,
            "padding": null,
            "grid_auto_rows": null,
            "grid_gap": null,
            "max_width": null,
            "order": null,
            "_view_module_version": "1.2.0",
            "grid_template_areas": null,
            "object_position": null,
            "object_fit": null,
            "grid_auto_columns": null,
            "margin": null,
            "display": null,
            "left": null
          }
        }
      }
    }
  },
  "cells": [
    {
      "cell_type": "code",
      "metadata": {
        "colab": {
          "base_uri": "https://localhost:8080/"
        },
        "id": "Hqy4lCV5Mhdu",
        "outputId": "140f6fe1-072d-46f3-c2f9-a53b16477ac5"
      },
      "source": [
        "import os\n",
        "import glob\n",
        "from google.colab import drive\n",
        "\n",
        "## load train, test and validation label arrays\n",
        "drive = drive.mount('/content/drive')"
      ],
      "execution_count": null,
      "outputs": [
        {
          "output_type": "stream",
          "text": [
            "Drive already mounted at /content/drive; to attempt to forcibly remount, call drive.mount(\"/content/drive\", force_remount=True).\n"
          ],
          "name": "stdout"
        }
      ]
    },
    {
      "cell_type": "code",
      "metadata": {
        "id": "zYQtW8C5Mia-"
      },
      "source": [
        "import os\n",
        "import time\n",
        "import copy\n",
        "from collections import defaultdict\n",
        "import torch\n",
        "import shutil\n",
        "import pandas as pd\n",
        "from skimage import io, transform\n",
        "import numpy as np\n",
        "from PIL import Image\n",
        "import matplotlib.pyplot as plt\n",
        "from torch.utils.data import Dataset, DataLoader, random_split\n",
        "from torchvision import transforms, utils\n",
        "from torch import nn\n",
        "import albumentations as A\n",
        "from albumentations.pytorch import ToTensor\n",
        "#import tqdm as tqdm\n",
        "from tqdm import tqdm as tqdm\n",
        "\n",
        "from albumentations import (HorizontalFlip, ShiftScaleRotate, Normalize, Resize, Compose, GaussNoise)\n",
        "import cv2\n",
        "\n",
        "from torch.autograd import Variable\n",
        "from torch.nn import Linear, ReLU, CrossEntropyLoss, Sequential, Conv2d, MaxPool2d, Module, Softmax, BatchNorm2d, Dropout\n",
        "from torch.optim import Adam, SGD\n",
        "import torch.nn.functional as F\n",
        "from PIL import Image\n",
        "from torch import nn\n",
        "import zipfile\n",
        "\n",
        "import random\n",
        "\n",
        "#device = torch.device('cuda:0' if torch.cuda.is_available() else 'cpu')"
      ],
      "execution_count": null,
      "outputs": []
    },
    {
      "cell_type": "code",
      "metadata": {
        "id": "S1wv-rYkNWdP"
      },
      "source": [
        "import random \n",
        "import cv2 \n",
        "def unet_augment(sample,vertical_prob,horizontal_prob): \n",
        "  image, masks= sample['image'], sample['masks'] \n",
        "  if (random.random()<vertical_prob): \n",
        "    image=cv2.flip(image,1) \n",
        "    masks=cv2.flip(masks,1) \n",
        "  if (random.random()<horizontal_prob): \n",
        "    image=cv2.flip(image,0) \n",
        "    masks=cv2.flip(masks,0) \n",
        "  return {'image': image, 'masks': masks} "
      ],
      "execution_count": null,
      "outputs": []
    },
    {
      "cell_type": "code",
      "metadata": {
        "id": "dH5HmXskNiPT"
      },
      "source": [
        "class MyDataset(Dataset):\n",
        "\n",
        "    def __init__(self, root, img_transform = None, mask_transform = None, transform= None):\n",
        "        self.root = root\n",
        "        self.folders = os.listdir(root)#指定路径包含的所有文件list\n",
        "        \n",
        "        paths = os.listdir(os.path.join(root, 'train_images'))\n",
        "        self.imgs = [os.path.join(root, 'train_images', p) for p in paths]\n",
        "        self.masks = [os.path.join(root, 'train_masks', p) for p in paths]\n",
        "        \n",
        "        self.img_transform = img_transform\n",
        "        self.mask_transform = mask_transform\n",
        "        self.transform = transform\n",
        "\n",
        "        \n",
        "    def __getitem__(self, idx):\n",
        "        img_folder = os.path.join(self.root, 'train_images')\n",
        "        mask_folder = os.path.join(self.root, 'train_masks')\n",
        "        \n",
        "        img_path = self.imgs[idx]\n",
        "        mask_path = self.masks[idx]\n",
        "        \n",
        "        img=cv2.imread(img_path)\n",
        "        #img = Image.open(img_path)\n",
        "        #input_net_1=img\n",
        "        #input_net_2=img \n",
        "\n",
        "        img=cv2.resize(img,(256,256), interpolation = cv2.INTER_CUBIC)\n",
        "        img= img.reshape((256,256,3))\n",
        "        #input_net_2=cv2.resize(input_net_2,(128,128), interpolation = cv2.INTER_CUBIC)\n",
        "        #img = img.convert('RGB')\n",
        "        #mask = Image.open(mask_path)\n",
        "\n",
        "        mask = cv2.imread(mask_path,cv2.IMREAD_GRAYSCALE)\n",
        "        mask = cv2.resize(mask,(256,256), interpolation = cv2.INTER_CUBIC)\n",
        "        mask= mask.reshape((256,256,1))       \n",
        "\n",
        "\n",
        "        sample = {'image': img, 'masks': mask}  \n",
        "\n",
        "        if self.transform:\n",
        "          sample=unet_augment(sample,vertical_prob=0.25,horizontal_prob=0.3)\n",
        "\n",
        "        sample['image']= sample['image'].transpose((2, 0, 1))#The convolution function in pytorch expects data in format (N,C,H,W) N is batch size , C are channels H is height and W is width. here we convert image from (H,W,C) to (C,H,W)\n",
        "        sample['masks']= sample['masks'].reshape((256,256,1)).transpose((2, 0, 1))\n",
        "       \n",
        "        sample[\"image\"] = self.img_transform(img)\n",
        "        \n",
        "       # mask = mask.convert('RGB')\n",
        "        sample[\"masks\"] = self.mask_transform(mask)\n",
        "        \n",
        "        return (sample[\"image\"],sample[\"masks\"])\n",
        "\n",
        "    \n",
        "    def __len__(self):\n",
        "        \n",
        "        return len(self.imgs)\n",
        "            \n",
        "\n",
        "        "
      ],
      "execution_count": null,
      "outputs": []
    },
    {
      "cell_type": "code",
      "metadata": {
        "id": "l5LA_pUNNkKe"
      },
      "source": [
        "img_transform = transforms.Compose([\n",
        "    transforms.ToTensor(),\n",
        "    transforms.Normalize(mean=(0.485, 0.456, 0.406), std=(0.229, 0.224, 0.225)),\n",
        "  \n",
        "])\n",
        "\n",
        "mask_transform = transforms.Compose([\n",
        "    transforms.ToTensor(),\n",
        "])\n",
        "\n",
        "# Generate dataset\n",
        "dataset = MyDataset('drive/My Drive/FDLHW', img_transform, mask_transform,transform= True)"
      ],
      "execution_count": null,
      "outputs": []
    },
    {
      "cell_type": "code",
      "metadata": {
        "colab": {
          "base_uri": "https://localhost:8080/"
        },
        "id": "JfayZHpUQofC",
        "outputId": "30a7072d-8d03-4f1a-8a62-2330b59f303b"
      },
      "source": [
        "image, mask = dataset.__getitem__(0)\n",
        "print(image.shape)\n",
        "print(mask.shape)"
      ],
      "execution_count": null,
      "outputs": [
        {
          "output_type": "stream",
          "text": [
            "torch.Size([3, 256, 256])\n",
            "torch.Size([1, 256, 256])\n"
          ],
          "name": "stdout"
        }
      ]
    },
    {
      "cell_type": "code",
      "metadata": {
        "id": "_G_KluLrQuOV"
      },
      "source": [
        "import numpy as np\n",
        "def format_image(img):\n",
        "    img = np.array(np.transpose(img, (1,2,0)))\n",
        "    mean = np.array((0.485, 0.456, 0.406))\n",
        "    std = np.array((0.229, 0.224, 0.225))\n",
        "    img  = std * img + mean\n",
        "    img = img * 255\n",
        "    img = img.astype(np.uint8)\n",
        "    return img\n",
        "\n",
        "def format_mask(mask):\n",
        "    mask = np.squeeze(np.transpose(mask, (1,2,0)))\n",
        "    return mask"
      ],
      "execution_count": null,
      "outputs": []
    },
    {
      "cell_type": "code",
      "metadata": {
        "id": "Gs98fkE2Qxdw"
      },
      "source": [
        "import random\n",
        "from matplotlib import pyplot as plt\n",
        "# Visualize images as well as masks\n",
        "def visualize_dataset(n_images, predict=None):\n",
        "    images = random.sample(range(0, 670), n_images)\n",
        "    figure, ax = plt.subplots(nrows=len(images), ncols=2, figsize=(5, 8))\n",
        "    print(images)\n",
        "    \n",
        "    for i in range(0, len(images)):\n",
        "        img_no = images[i]\n",
        "        image, mask = dataset.__getitem__(img_no)\n",
        "        image = format_image(image)\n",
        "        mask = format_mask(mask)\n",
        "        ax[i, 0].imshow(image)\n",
        "        ax[i, 1].imshow(mask, interpolation=\"nearest\", cmap=\"gray\")\n",
        "        ax[i, 0].set_title(\"Ground Truth Image\")\n",
        "        ax[i, 1].set_title(\"Mask\")\n",
        "        ax[i, 0].set_axis_off()\n",
        "        ax[i, 1].set_axis_off()\n",
        "    plt.tight_layout()\n",
        "    plt.show()"
      ],
      "execution_count": null,
      "outputs": []
    },
    {
      "cell_type": "code",
      "metadata": {
        "colab": {
          "base_uri": "https://localhost:8080/",
          "height": 603
        },
        "id": "z6U6kly9Q0-1",
        "outputId": "974a8960-b98a-420d-fa22-0e3acb375533"
      },
      "source": [
        "visualize_dataset(5)"
      ],
      "execution_count": null,
      "outputs": [
        {
          "output_type": "stream",
          "text": [
            "[463, 59, 25, 328, 10]\n"
          ],
          "name": "stdout"
        },
        {
          "output_type": "display_data",
          "data": {
            "image/png": "[encoded data removed]",
            "text/plain": [
              "<Figure size 360x576 with 10 Axes>"
            ]
          },
          "metadata": {
            "tags": [],
            "needs_background": "light"
          }
        }
      ]
    },
    {
      "cell_type": "code",
      "metadata": {
        "colab": {
          "base_uri": "https://localhost:8080/"
        },
        "id": "Tf-28QCsQ3gm",
        "outputId": "8c50aa06-f34c-4ce1-e8cd-750d31c57d0a"
      },
      "source": [
        "import numpy as np\n",
        "from torch.utils.data import DataLoader, random_split\n",
        "split_ratio = 0.25\n",
        "train_size=int(np.round(dataset.__len__()*(1 - split_ratio),0))\n",
        "valid_size=int(np.round(dataset.__len__()*split_ratio,0))\n",
        "\n",
        "train_data, valid_data = random_split(dataset, [train_size, valid_size])\n",
        "\n",
        "train_loader = DataLoader(dataset=train_data, batch_size=20, shuffle=True)\n",
        "val_loader = DataLoader(dataset=valid_data, batch_size=20)\n",
        "\n",
        "print(\"Length of train and valid datas: {}, {}\".format(len(train_data), len(valid_data)))"
      ],
      "execution_count": null,
      "outputs": [
        {
          "output_type": "stream",
          "text": [
            "Length of train and valid datas: 1992, 664\n"
          ],
          "name": "stdout"
        }
      ]
    },
    {
      "cell_type": "code",
      "metadata": {
        "id": "kDe_CVE8Q-rw"
      },
      "source": [
        "import torch.nn as nn\n",
        "        \n",
        "        \n",
        "ALPHA = 0.8\n",
        "GAMMA = 2\n",
        "\n",
        "class FocalDiceLoss(nn.Module):\n",
        "    def __init__(self, weight=None, size_average=True):\n",
        "        super(FocalLoss, self).__init__()\n",
        "\n",
        "    def forward(self, inputs, targets, alpha=ALPHA, gamma=GAMMA, smooth=1):\n",
        "        \n",
        "        #comment out if your model contains a sigmoid or equivalent activation layer\n",
        "        #inputs = F.sigmoid(inputs)       \n",
        "        \n",
        "        #flatten label and prediction tensors\n",
        "        inputs = inputs.view(-1)\n",
        "        targets = targets.view(-1)\n",
        "        \n",
        "        #DICE\n",
        "        intersection = (inputs * targets).sum()                            \n",
        "        dice = 1-(2.*intersection + smooth)/(inputs.sum() + targets.sum() + smooth) \n",
        "        \n",
        "        \n",
        "        #FOCAL\n",
        "        BCE = F.binary_cross_entropy(inputs, targets, reduction='mean')\n",
        "        BCE_EXP = torch.exp(-BCE)\n",
        "        focal_loss = alpha * (1-BCE_EXP)**gamma * BCE\n",
        "                       \n",
        "        #FINAL\n",
        "        final_loss=1\n",
        "        \n",
        "        return focal_loss      \n",
        "        \n",
        "    \n",
        "class DiceBCELoss(nn.Module):\n",
        "    def __init__(self, weight=None, size_average=True):\n",
        "        super(DiceBCELoss, self).__init__()\n",
        "\n",
        "    def forward(self, inputs, targets, smooth=1):\n",
        "        \n",
        "        \n",
        "        #comment out if your model contains a sigmoid or equivalent activation layer\n",
        "        inputs = torch.sigmoid(inputs)       \n",
        "        \n",
        "        #flatten label and prediction tensors\n",
        "        inputs = inputs.view(-1)\n",
        "        targets = targets.view(-1)\n",
        "        \n",
        "        intersection = (inputs * targets).sum()                            \n",
        "        dice_loss = 1 - (2.*intersection + smooth)/(inputs.sum() + targets.sum() + smooth)  \n",
        "        BCE = F.binary_cross_entropy(inputs, targets, reduction='mean')\n",
        "        Dice_BCE = BCE + dice_loss\n",
        "        \n",
        "        return Dice_BCE\n",
        "\n",
        "\n",
        "class DiceLoss(nn.Module):\n",
        "    def __init__(self, weight=None, size_average=True):\n",
        "        super(DiceLoss, self).__init__()\n",
        "\n",
        "    def forward(self, inputs, targets, smooth=1):\n",
        "        \n",
        "        #comment out if your model contains a sigmoid or equivalent activation layer\n",
        "        #inputs = F.sigmoid(inputs)       \n",
        "        \n",
        "        #flatten label and prediction tensors\n",
        "        inputs = inputs.view(-1)\n",
        "        targets = targets.view(-1)\n",
        "        \n",
        "        intersection = (inputs * targets).sum()                            \n",
        "        dice = (2.*intersection + smooth)/(inputs.sum() + targets.sum() + smooth)  \n",
        "        \n",
        "        return 1 - dice\n",
        "\n",
        "\n",
        "class IoU(nn.Module):\n",
        "    def __init__(self, weight=None, size_average=True):\n",
        "        super(IoU, self).__init__()\n",
        "\n",
        "    def forward(self, inputs, targets, smooth=1):\n",
        "        \n",
        "        #comment out if your model contains a sigmoid or equivalent activation layer\n",
        "        inputs = F.sigmoid(inputs)       \n",
        "        \n",
        "        #flatten label and prediction tensors\n",
        "        inputs = inputs.view(-1)\n",
        "        targets = targets.view(-1)\n",
        "        \n",
        "        #intersection is equivalent to True Positive count\n",
        "        #union is the mutually inclusive area of all labels & predictions \n",
        "        intersection = (inputs * targets).sum()\n",
        "        total = (inputs + targets).sum()\n",
        "        union = total - intersection \n",
        "        \n",
        "        IoU = (intersection + smooth)/(union + smooth)\n",
        "                \n",
        "        return IoU"
      ],
      "execution_count": null,
      "outputs": []
    },
    {
      "cell_type": "code",
      "metadata": {
        "id": "tLa0e3N2RBuw"
      },
      "source": [
        "def write_results(ff, save_folder, epoch, train_score, val_score, train_loss, val_loss):\n",
        "    ff=open('{}/progress.txt'.format(save_folder),'a')\n",
        "    ff.write(' E: ')\n",
        "    ff.write(str(epoch))\n",
        "    ff.write('         ')\n",
        "    ff.write(' TRAIN_SCORE: ')\n",
        "    ff.write(str('%.3f' % train_score))\n",
        "    ff.write(' VAL_SCORE: ')\n",
        "    ff.write(str('%.3f' % val_score))\n",
        "    ff.write('         ')\n",
        "    ff.write(' TRAIN_LOSS: ')\n",
        "    ff.write(str('%.3f' % train_loss))\n",
        "    ff.write(' VAL_LOSS: ')\n",
        "    ff.write(str('%.3f' % val_loss))\n",
        "    ff.write('\\n')"
      ],
      "execution_count": null,
      "outputs": []
    },
    {
      "cell_type": "code",
      "metadata": {
        "id": "991fLvZrRJd_"
      },
      "source": [
        "import matplotlib.pyplot as plt\n",
        "# create a function that creates train-val loss graph and saves the figure in a destination folder\n",
        "def save_graph(train_loss, val_loss, nb_epochs, save_folder):\n",
        "    plt.plot(list(range(nb_epochs+1))[1:], train_loss)\n",
        "    plt.plot(list(range(nb_epochs+1))[1:], val_loss)\n",
        "    plt.legend(['train', 'val'])\n",
        "    plt.xlabel('Epochs')\n",
        "    plt.ylabel('Loss')"
      ],
      "execution_count": null,
      "outputs": []
    },
    {
      "cell_type": "code",
      "metadata": {
        "id": "g4U8f93iRLHF"
      },
      "source": [
        "#model\n",
        "import torch\n",
        "import torch.nn as nn\n",
        "from torchvision import models, datasets, transforms\n",
        "from torch.nn import functional as F\n",
        "\n",
        "\n",
        "def get_backbone(name, pretrained=True):\n",
        "\n",
        "    \"\"\" Loading backbone, defining names for skip-connections and encoder output. \"\"\"\n",
        "\n",
        "    # TODO: More backbones\n",
        "\n",
        "    # loading backbone model\n",
        "    if name == 'resnet18':\n",
        "        backbone = models.resnet18(pretrained=pretrained)\n",
        "    elif name == 'resnet34':\n",
        "        backbone = models.resnet34(pretrained=pretrained)\n",
        "    elif name == 'resnet50':\n",
        "        backbone = models.resnet50(pretrained=pretrained)\n",
        "    elif name == 'resnet101':\n",
        "        backbone = models.resnet101(pretrained=pretrained)\n",
        "    elif name == 'resnet152':\n",
        "        backbone = models.resnet152(pretrained=pretrained)\n",
        "    elif name == 'vgg16':\n",
        "        backbone = models.vgg16_bn(pretrained=pretrained).features\n",
        "    elif name == 'vgg19':\n",
        "        backbone = models.vgg19_bn(pretrained=pretrained).features\n",
        "    # elif name == 'inception_v3':\n",
        "    #     backbone = models.inception_v3(pretrained=pretrained, aux_logits=False)\n",
        "    elif name == 'densenet121':\n",
        "        backbone = models.densenet121(pretrained=True).features\n",
        "    elif name == 'densenet161':\n",
        "        backbone = models.densenet161(pretrained=True).features\n",
        "    elif name == 'densenet169':\n",
        "        backbone = models.densenet169(pretrained=True).features\n",
        "    elif name == 'densenet201':\n",
        "        backbone = models.densenet201(pretrained=True).features\n",
        "    elif name == 'unet_encoder':\n",
        "        from unet_backbone import UnetEncoder\n",
        "        backbone = UnetEncoder(3)\n",
        "    else:\n",
        "        raise NotImplemented('{} backbone model is not implemented so far.'.format(name))\n",
        "\n",
        "    # specifying skip feature and output names\n",
        "    if name.startswith('resnet'):\n",
        "        feature_names = [None, 'relu', 'layer1', 'layer2', 'layer3']\n",
        "        backbone_output = 'layer4'\n",
        "    elif name == 'vgg16':\n",
        "        # TODO: consider using a 'bridge' for VGG models, there is just a MaxPool between last skip and backbone output\n",
        "        feature_names = ['5', '12', '22', '32', '42']\n",
        "        backbone_output = '43'\n",
        "    elif name == 'vgg19':\n",
        "        feature_names = ['5', '12', '25', '38', '51']\n",
        "        backbone_output = '52'\n",
        "    # elif name == 'inception_v3':\n",
        "    #     feature_names = [None, 'Mixed_5d', 'Mixed_6e']\n",
        "    #     backbone_output = 'Mixed_7c'\n",
        "    elif name.startswith('densenet'):\n",
        "        feature_names = [None, 'relu0', 'denseblock1', 'denseblock2', 'denseblock3']\n",
        "        backbone_output = 'denseblock4'\n",
        "    elif name == 'unet_encoder':\n",
        "        feature_names = ['module1', 'module2', 'module3', 'module4']\n",
        "        backbone_output = 'module5'\n",
        "    else:\n",
        "        raise NotImplemented('{} backbone model is not implemented so far.'.format(name))\n",
        "\n",
        "    return backbone, feature_names, backbone_output\n",
        "\n",
        "\n",
        "class UpsampleBlock(nn.Module):\n",
        "\n",
        "    # TODO: separate parametric and non-parametric classes?\n",
        "    # TODO: skip connection concatenated OR added\n",
        "\n",
        "    def __init__(self, ch_in, ch_out=None, skip_in=0, use_bn=True, parametric=False):\n",
        "        super(UpsampleBlock, self).__init__()\n",
        "\n",
        "        self.parametric = parametric\n",
        "        ch_out = ch_in/2 if ch_out is None else ch_out\n",
        "\n",
        "        # first convolution: either transposed conv, or conv following the skip connection\n",
        "        if parametric:\n",
        "            # versions: kernel=4 padding=1, kernel=2 padding=0\n",
        "            self.up = nn.ConvTranspose2d(in_channels=ch_in, out_channels=ch_out, kernel_size=(4, 4),\n",
        "                                         stride=2, padding=1, output_padding=0, bias=(not use_bn))\n",
        "            self.bn1 = nn.BatchNorm2d(ch_out) if use_bn else None\n",
        "        else:\n",
        "            self.up = None\n",
        "            ch_in = ch_in + skip_in\n",
        "            self.conv1 = nn.Conv2d(in_channels=ch_in, out_channels=ch_out, kernel_size=(3, 3),\n",
        "                                   stride=1, padding=1, bias=(not use_bn))\n",
        "            self.bn1 = nn.BatchNorm2d(ch_out) if use_bn else None\n",
        "\n",
        "        self.relu = nn.ReLU(inplace=True)\n",
        "\n",
        "        # second convolution\n",
        "        conv2_in = ch_out if not parametric else ch_out + skip_in\n",
        "        self.conv2 = nn.Conv2d(in_channels=conv2_in, out_channels=ch_out, kernel_size=(3, 3),\n",
        "                               stride=1, padding=1, bias=(not use_bn))\n",
        "        self.bn2 = nn.BatchNorm2d(ch_out) if use_bn else None\n",
        "\n",
        "    def forward(self, x, skip_connection=None):\n",
        "\n",
        "        x = self.up(x) if self.parametric else F.interpolate(x, size=None, scale_factor=2, mode='bilinear',\n",
        "                                                             align_corners=None)\n",
        "        if self.parametric:\n",
        "            x = self.bn1(x) if self.bn1 is not None else x\n",
        "            x = self.relu(x)\n",
        "\n",
        "        if skip_connection is not None:\n",
        "            x = torch.cat([x, skip_connection], dim=1)\n",
        "\n",
        "        if not self.parametric:\n",
        "            x = self.conv1(x)\n",
        "            x = self.bn1(x) if self.bn1 is not None else x\n",
        "            x = self.relu(x)\n",
        "        x = self.conv2(x)\n",
        "        x = self.bn2(x) if self.bn2 is not None else x\n",
        "        x = self.relu(x)\n",
        "\n",
        "        return x\n",
        "\n",
        "\n",
        "class Unet(nn.Module):\n",
        "\n",
        "    \"\"\" U-Net (https://arxiv.org/pdf/1505.04597.pdf) implementation with pre-trained torchvision backbones.\"\"\"\n",
        "\n",
        "    def __init__(self,\n",
        "                 backbone_name='resnet50',\n",
        "                 pretrained=True,\n",
        "                 encoder_freeze=False,\n",
        "                 classes=1,\n",
        "                 decoder_filters=(256, 128, 64, 32, 16),\n",
        "                 parametric_upsampling=True,\n",
        "                 shortcut_features='default',\n",
        "                 decoder_use_batchnorm=True):\n",
        "        super(Unet, self).__init__()\n",
        "\n",
        "        self.backbone_name = backbone_name\n",
        "\n",
        "        self.backbone, self.shortcut_features, self.bb_out_name = get_backbone(backbone_name, pretrained=pretrained)\n",
        "        shortcut_chs, bb_out_chs = self.infer_skip_channels()\n",
        "        if shortcut_features != 'default':\n",
        "            self.shortcut_features = shortcut_features\n",
        "\n",
        "        # build decoder part\n",
        "        self.upsample_blocks = nn.ModuleList()\n",
        "        decoder_filters = decoder_filters[:len(self.shortcut_features)]  # avoiding having more blocks than skip connections\n",
        "        decoder_filters_in = [bb_out_chs] + list(decoder_filters[:-1])\n",
        "        num_blocks = len(self.shortcut_features)\n",
        "        for i, [filters_in, filters_out] in enumerate(zip(decoder_filters_in, decoder_filters)):\n",
        "            print('upsample_blocks[{}] in: {}   out: {}'.format(i, filters_in, filters_out))\n",
        "            self.upsample_blocks.append(UpsampleBlock(filters_in, filters_out,\n",
        "                                                      skip_in=shortcut_chs[num_blocks-i-1],\n",
        "                                                      parametric=parametric_upsampling,\n",
        "                                                      use_bn=decoder_use_batchnorm))\n",
        "\n",
        "        self.final_conv = nn.Conv2d(decoder_filters[-1], classes, kernel_size=(1, 1))\n",
        "\n",
        "        if encoder_freeze:\n",
        "            self.freeze_encoder()\n",
        "\n",
        "        self.replaced_conv1 = False  # for accommodating  inputs with different number of channels later\n",
        "\n",
        "    def freeze_encoder(self):\n",
        "\n",
        "        \"\"\" Freezing encoder parameters, the newly initialized decoder parameters are remaining trainable. \"\"\"\n",
        "\n",
        "        for param in self.backbone.parameters():\n",
        "            param.requires_grad = False\n",
        "\n",
        "    def forward(self, *input):\n",
        "\n",
        "        \"\"\" Forward propagation in U-Net. \"\"\"\n",
        "\n",
        "        x, features = self.forward_backbone(*input)\n",
        "\n",
        "        for skip_name, upsample_block in zip(self.shortcut_features[::-1], self.upsample_blocks):\n",
        "            skip_features = features[skip_name]\n",
        "            x = upsample_block(x, skip_features)\n",
        "\n",
        "        x = self.final_conv(x)\n",
        "        return x\n",
        "\n",
        "    def forward_backbone(self, x):\n",
        "\n",
        "        \"\"\" Forward propagation in backbone encoder network.  \"\"\"\n",
        "\n",
        "        features = {None: None} if None in self.shortcut_features else dict()\n",
        "        for name, child in self.backbone.named_children():\n",
        "            x = child(x)\n",
        "            if name in self.shortcut_features:\n",
        "                features[name] = x\n",
        "            if name == self.bb_out_name:\n",
        "                break\n",
        "\n",
        "        return x, features\n",
        "\n",
        "    def infer_skip_channels(self):\n",
        "\n",
        "        \"\"\" Getting the number of channels at skip connections and at the output of the encoder. \"\"\"\n",
        "\n",
        "        x = torch.zeros(1, 3, 224, 224)\n",
        "        has_fullres_features = self.backbone_name.startswith('vgg') or self.backbone_name == 'unet_encoder'\n",
        "        channels = [] if has_fullres_features else [0]  # only VGG has features at full resolution\n",
        "\n",
        "        # forward run in backbone to count channels (dirty solution but works for *any* Module)\n",
        "        for name, child in self.backbone.named_children():\n",
        "            x = child(x)\n",
        "            if name in self.shortcut_features:\n",
        "                channels.append(x.shape[1])\n",
        "            if name == self.bb_out_name:\n",
        "                out_channels = x.shape[1]\n",
        "                break\n",
        "        return channels, out_channels\n",
        "\n",
        "    def get_pretrained_parameters(self):\n",
        "        for name, param in self.backbone.named_parameters():\n",
        "            if not (self.replaced_conv1 and name == 'conv1.weight'):\n",
        "                yield param\n",
        "\n",
        "    def get_random_initialized_parameters(self):\n",
        "        pretrained_param_names = set()\n",
        "        for name, param in self.backbone.named_parameters():\n",
        "            if not (self.replaced_conv1 and name == 'conv1.weight'):\n",
        "                pretrained_param_names.add('backbone.{}'.format(name))\n",
        "\n",
        "        for name, param in self.named_parameters():\n",
        "            if name not in pretrained_param_names:\n",
        "                yield param\n",
        "\n"
      ],
      "execution_count": null,
      "outputs": []
    },
    {
      "cell_type": "code",
      "metadata": {
        "colab": {
          "base_uri": "https://localhost:8080/",
          "height": 173,
          "referenced_widgets": [
            "237de72ffbd94eac8e5b846390f8ee6e",
            "ac3934e048a348ea866b073cdf91070e",
            "023a4fb4089e4dc7aba4dee0c371182d",
            "84d9bd7025544e9abbca6813eabe2781",
            "be3602da49c74fa39ca634b59efd7b7a",
            "b0999dba18154c939adde87e5392b782",
            "fc902fe08ccf43a0b90007f132050035",
            "def741b02efc420a9e211d88d1672fdf"
          ]
        },
        "id": "k77g3Wk2RP9F",
        "outputId": "108f847a-b732-4b5b-f67d-40f2fc5a8c00"
      },
      "source": [
        "model = Unet(backbone_name='resnet18').cuda()"
      ],
      "execution_count": null,
      "outputs": [
        {
          "output_type": "stream",
          "text": [
            "Downloading: \"https://download.pytorch.org/models/resnet18-5c106cde.pth\" to /root/.cache/torch/hub/checkpoints/resnet18-5c106cde.pth\n"
          ],
          "name": "stderr"
        },
        {
          "output_type": "display_data",
          "data": {
            "application/vnd.jupyter.widget-view+json": {
              "model_id": "237de72ffbd94eac8e5b846390f8ee6e",
              "version_minor": 0,
              "version_major": 2
            },
            "text/plain": [
              "HBox(children=(FloatProgress(value=0.0, max=46827520.0), HTML(value='')))"
            ]
          },
          "metadata": {
            "tags": []
          }
        },
        {
          "output_type": "stream",
          "text": [
            "\n",
            "upsample_blocks[0] in: 512   out: 256\n",
            "upsample_blocks[1] in: 256   out: 128\n",
            "upsample_blocks[2] in: 128   out: 64\n",
            "upsample_blocks[3] in: 64   out: 32\n",
            "upsample_blocks[4] in: 32   out: 16\n"
          ],
          "name": "stdout"
        }
      ]
    },
    {
      "cell_type": "code",
      "metadata": {
        "id": "KDs1-yUxRTtl"
      },
      "source": [
        "optimizer = torch.optim.Adam(model.parameters(),lr = 1e-3,weight_decay=0.001)\n",
        "criterion = DiceBCELoss()\n",
        "accuracy_metric = IoU()\n",
        "num_epochs=30\n",
        "#valid_loss_min = np.Inf"
      ],
      "execution_count": null,
      "outputs": []
    },
    {
      "cell_type": "code",
      "metadata": {
        "colab": {
          "base_uri": "https://localhost:8080/",
          "height": 1000
        },
        "id": "xVpncKxgRbUU",
        "outputId": "b5cff8cc-4295-4a9c-b8f5-c36cf33e996f"
      },
      "source": [
        "#import lovasz_losses as L\n",
        "#optimizer = torch.optim.SGD(model.parameters(),lr = 1e-3,weight_decay=0.0001,momentum=0.99)\n",
        "save_folder = 'drive/My Drive/FDLHW/Results_Res34'\n",
        "ff=open('{}/progress.txt'.format(save_folder),'w')\n",
        "total_train_loss = []\n",
        "total_train_score = []\n",
        "total_valid_loss = []\n",
        "total_valid_score = []\n",
        "\n",
        "losses_value = 0\n",
        "for epoch in range(10):\n",
        "    model.train()\n",
        "  \n",
        "    train_loss = []\n",
        "    train_score = []\n",
        "    valid_loss = []\n",
        "    valid_score = []\n",
        "    #<-----------Training Loop---------------------------->\n",
        "    p = tqdm(train_loader, desc = 'description')\n",
        "    for x_train, y_train in p:\n",
        "        x_train = torch.autograd.Variable(x_train).cuda()\n",
        "        y_train = torch.autograd.Variable(y_train).cuda()\n",
        "        optimizer.zero_grad()\n",
        "        output = model(x_train)\n",
        "        \n",
        "      #Loss\n",
        "        loss = criterion(output,y_train)\n",
        "        losses_value = loss.item()\n",
        "      #Score\n",
        "        score = accuracy_metric(output,y_train)\n",
        "        loss.backward()\n",
        "        optimizer.step()\n",
        "        train_loss.append(losses_value)\n",
        "        train_score.append(score.item())\n",
        "        #train_score.append(score)\n",
        "        p.set_description(f\"Epoch: {epoch+1}, loss: {losses_value}, IoU: {score}\")\n",
        "\n",
        "    #<---------------Validation Loop---------------------->\n",
        "    model.eval()\n",
        "    with torch.no_grad():\n",
        "        for image,mask in val_loader:\n",
        "            image = torch.autograd.Variable(image).cuda()\n",
        "            mask = torch.autograd.Variable(mask).cuda()\n",
        "            output = model(image)\n",
        "            \n",
        "        ## Compute Loss Value.\n",
        "            loss = criterion(output,mask)\n",
        "            losses_value = loss.item()\n",
        "        ## Compute Accuracy Score\n",
        "            score = accuracy_metric(output,mask)\n",
        "            valid_loss.append(losses_value)\n",
        "            valid_score.append(score.item())\n",
        "\n",
        "        total_train_loss.append(np.mean(train_loss))\n",
        "        total_train_score.append(np.mean(train_score))\n",
        "        total_valid_loss.append(np.mean(valid_loss))\n",
        "        total_valid_score.append(np.mean(valid_score))\n",
        "        print(f\"\\n###############Train Loss: {total_train_loss[-1]}, Train IOU: {total_train_score[-1]}###############\")\n",
        "        print(f\"###############Valid Loss: {total_valid_loss[-1]}, Valid IOU: {total_valid_score[-1]}###############\")\n",
        "        \n",
        "    write_results(ff, save_folder, epoch, total_train_score[-1], total_valid_score[-1], total_valid_loss[-1], total_valid_score[-1])\n",
        "\n",
        "    torch.save(model.state_dict(), save_folder + '/model_{}.pt'.format(epoch+20))\n",
        "save_graph(total_train_loss, total_valid_loss, num_epochs, save_folder)\n",
        "   "
      ],
      "execution_count": null,
      "outputs": [
        {
          "output_type": "stream",
          "text": [
            "\rdescription:   0%|          | 0/100 [00:00<?, ?it/s]/usr/local/lib/python3.6/dist-packages/torch/nn/functional.py:1639: UserWarning: nn.functional.sigmoid is deprecated. Use torch.sigmoid instead.\n",
            "  warnings.warn(\"nn.functional.sigmoid is deprecated. Use torch.sigmoid instead.\")\n",
            "Epoch: 1, loss: 0.31084030866622925, IoU: 0.7264013886451721: 100%|██████████| 100/100 [01:03<00:00,  1.57it/s]\n"
          ],
          "name": "stderr"
        },
        {
          "output_type": "stream",
          "text": [
            "\n",
            "###############Train Loss: 0.24364440262317658, Train IOU: 0.769759110212326###############\n",
            "###############Valid Loss: 0.42452451849684997, Valid IOU: 0.6409708208897534###############\n"
          ],
          "name": "stdout"
        },
        {
          "output_type": "stream",
          "text": [
            "Epoch: 2, loss: 0.28205060958862305, IoU: 0.7368696928024292: 100%|██████████| 100/100 [01:03<00:00,  1.57it/s]\n"
          ],
          "name": "stderr"
        },
        {
          "output_type": "stream",
          "text": [
            "\n",
            "###############Train Loss: 0.2551242455840111, Train IOU: 0.7590303599834443###############\n",
            "###############Valid Loss: 0.3911632001399994, Valid IOU: 0.6689631290295545###############\n"
          ],
          "name": "stdout"
        },
        {
          "output_type": "stream",
          "text": [
            "Epoch: 3, loss: 0.2905014157295227, IoU: 0.7464106678962708: 100%|██████████| 100/100 [01:02<00:00,  1.59it/s]\n"
          ],
          "name": "stderr"
        },
        {
          "output_type": "stream",
          "text": [
            "\n",
            "###############Train Loss: 0.25599313735961915, Train IOU: 0.7580465269088745###############\n",
            "###############Valid Loss: 0.43326393471044655, Valid IOU: 0.6358937586055082###############\n"
          ],
          "name": "stdout"
        },
        {
          "output_type": "stream",
          "text": [
            "Epoch: 4, loss: 0.3569524586200714, IoU: 0.7038225531578064: 100%|██████████| 100/100 [01:03<00:00,  1.59it/s]\n"
          ],
          "name": "stderr"
        },
        {
          "output_type": "stream",
          "text": [
            "\n",
            "###############Train Loss: 0.27268622651696206, Train IOU: 0.7435343104600907###############\n",
            "###############Valid Loss: 0.4044478614540661, Valid IOU: 0.6505631664220024###############\n"
          ],
          "name": "stdout"
        },
        {
          "output_type": "stream",
          "text": [
            "Epoch: 5, loss: 0.3109855651855469, IoU: 0.729970395565033: 100%|██████████| 100/100 [01:03<00:00,  1.59it/s]\n"
          ],
          "name": "stderr"
        },
        {
          "output_type": "stream",
          "text": [
            "\n",
            "###############Train Loss: 0.27806210398674014, Train IOU: 0.7379008644819259###############\n",
            "###############Valid Loss: 0.4964444944087197, Valid IOU: 0.5954118686563828###############\n"
          ],
          "name": "stdout"
        },
        {
          "output_type": "stream",
          "text": [
            "Epoch: 6, loss: 0.25237059593200684, IoU: 0.7607423067092896: 100%|██████████| 100/100 [01:03<00:00,  1.58it/s]\n"
          ],
          "name": "stderr"
        },
        {
          "output_type": "stream",
          "text": [
            "\n",
            "###############Train Loss: 0.2793951243162155, Train IOU: 0.7369046187400818###############\n",
            "###############Valid Loss: 0.3906113575486576, Valid IOU: 0.6557567926014171###############\n"
          ],
          "name": "stdout"
        },
        {
          "output_type": "stream",
          "text": [
            "Epoch: 7, loss: 0.286325603723526, IoU: 0.7318757176399231: 100%|██████████| 100/100 [01:03<00:00,  1.58it/s]\n"
          ],
          "name": "stderr"
        },
        {
          "output_type": "stream",
          "text": [
            "\n",
            "###############Train Loss: 0.2738563840091228, Train IOU: 0.7419094508886337###############\n",
            "###############Valid Loss: 0.4032617202576469, Valid IOU: 0.6571851846049813###############\n"
          ],
          "name": "stdout"
        },
        {
          "output_type": "stream",
          "text": [
            "Epoch: 8, loss: 0.27017703652381897, IoU: 0.7351458072662354: 100%|██████████| 100/100 [01:03<00:00,  1.58it/s]\n"
          ],
          "name": "stderr"
        },
        {
          "output_type": "stream",
          "text": [
            "\n",
            "###############Train Loss: 0.27980893209576607, Train IOU: 0.7368593430519104###############\n",
            "###############Valid Loss: 0.39819835915284996, Valid IOU: 0.6478112269850338###############\n"
          ],
          "name": "stdout"
        },
        {
          "output_type": "stream",
          "text": [
            "Epoch: 9, loss: 0.3044794797897339, IoU: 0.7141232490539551: 100%|██████████| 100/100 [01:03<00:00,  1.58it/s]\n"
          ],
          "name": "stderr"
        },
        {
          "output_type": "stream",
          "text": [
            "\n",
            "###############Train Loss: 0.28727653220295907, Train IOU: 0.7302019673585892###############\n",
            "###############Valid Loss: 0.4295933386858772, Valid IOU: 0.646258764407214###############\n"
          ],
          "name": "stdout"
        },
        {
          "output_type": "stream",
          "text": [
            "Epoch: 10, loss: 0.32859355211257935, IoU: 0.7207075357437134: 100%|██████████| 100/100 [01:03<00:00,  1.57it/s]\n"
          ],
          "name": "stderr"
        },
        {
          "output_type": "stream",
          "text": [
            "\n",
            "###############Train Loss: 0.2949503107368946, Train IOU: 0.7234220188856125###############\n",
            "###############Valid Loss: 0.40826189167359295, Valid IOU: 0.652382493019104###############\n"
          ],
          "name": "stdout"
        },
        {
          "output_type": "error",
          "ename": "ValueError",
          "evalue": "ignored",
          "traceback": [
            "\u001b[0;31m---------------------------------------------------------------------------\u001b[0m",
            "\u001b[0;31mValueError\u001b[0m                                Traceback (most recent call last)",
            "\u001b[0;32m<ipython-input-23-4624763b7c20>\u001b[0m in \u001b[0;36m<module>\u001b[0;34m()\u001b[0m\n\u001b[1;32m     62\u001b[0m \u001b[0;34m\u001b[0m\u001b[0m\n\u001b[1;32m     63\u001b[0m     \u001b[0mtorch\u001b[0m\u001b[0;34m.\u001b[0m\u001b[0msave\u001b[0m\u001b[0;34m(\u001b[0m\u001b[0mmodel\u001b[0m\u001b[0;34m.\u001b[0m\u001b[0mstate_dict\u001b[0m\u001b[0;34m(\u001b[0m\u001b[0;34m)\u001b[0m\u001b[0;34m,\u001b[0m \u001b[0msave_folder\u001b[0m \u001b[0;34m+\u001b[0m \u001b[0;34m'/model_{}.pt'\u001b[0m\u001b[0;34m.\u001b[0m\u001b[0mformat\u001b[0m\u001b[0;34m(\u001b[0m\u001b[0mepoch\u001b[0m\u001b[0;34m+\u001b[0m\u001b[0;36m20\u001b[0m\u001b[0;34m)\u001b[0m\u001b[0;34m)\u001b[0m\u001b[0;34m\u001b[0m\u001b[0;34m\u001b[0m\u001b[0m\n\u001b[0;32m---> 64\u001b[0;31m \u001b[0msave_graph\u001b[0m\u001b[0;34m(\u001b[0m\u001b[0mtotal_train_loss\u001b[0m\u001b[0;34m,\u001b[0m \u001b[0mtotal_valid_loss\u001b[0m\u001b[0;34m,\u001b[0m \u001b[0mnum_epochs\u001b[0m\u001b[0;34m,\u001b[0m \u001b[0msave_folder\u001b[0m\u001b[0;34m)\u001b[0m\u001b[0;34m\u001b[0m\u001b[0;34m\u001b[0m\u001b[0m\n\u001b[0m\u001b[1;32m     65\u001b[0m \u001b[0;34m\u001b[0m\u001b[0m\n",
            "\u001b[0;32m<ipython-input-15-3d17e19d986e>\u001b[0m in \u001b[0;36msave_graph\u001b[0;34m(train_loss, val_loss, nb_epochs, save_folder)\u001b[0m\n\u001b[1;32m      2\u001b[0m \u001b[0;31m# create a function that creates train-val loss graph and saves the figure in a destination folder\u001b[0m\u001b[0;34m\u001b[0m\u001b[0;34m\u001b[0m\u001b[0;34m\u001b[0m\u001b[0m\n\u001b[1;32m      3\u001b[0m \u001b[0;32mdef\u001b[0m \u001b[0msave_graph\u001b[0m\u001b[0;34m(\u001b[0m\u001b[0mtrain_loss\u001b[0m\u001b[0;34m,\u001b[0m \u001b[0mval_loss\u001b[0m\u001b[0;34m,\u001b[0m \u001b[0mnb_epochs\u001b[0m\u001b[0;34m,\u001b[0m \u001b[0msave_folder\u001b[0m\u001b[0;34m)\u001b[0m\u001b[0;34m:\u001b[0m\u001b[0;34m\u001b[0m\u001b[0;34m\u001b[0m\u001b[0m\n\u001b[0;32m----> 4\u001b[0;31m     \u001b[0mplt\u001b[0m\u001b[0;34m.\u001b[0m\u001b[0mplot\u001b[0m\u001b[0;34m(\u001b[0m\u001b[0mlist\u001b[0m\u001b[0;34m(\u001b[0m\u001b[0mrange\u001b[0m\u001b[0;34m(\u001b[0m\u001b[0mnb_epochs\u001b[0m\u001b[0;34m+\u001b[0m\u001b[0;36m1\u001b[0m\u001b[0;34m)\u001b[0m\u001b[0;34m)\u001b[0m\u001b[0;34m[\u001b[0m\u001b[0;36m1\u001b[0m\u001b[0;34m:\u001b[0m\u001b[0;34m]\u001b[0m\u001b[0;34m,\u001b[0m \u001b[0mtrain_loss\u001b[0m\u001b[0;34m)\u001b[0m\u001b[0;34m\u001b[0m\u001b[0;34m\u001b[0m\u001b[0m\n\u001b[0m\u001b[1;32m      5\u001b[0m     \u001b[0mplt\u001b[0m\u001b[0;34m.\u001b[0m\u001b[0mplot\u001b[0m\u001b[0;34m(\u001b[0m\u001b[0mlist\u001b[0m\u001b[0;34m(\u001b[0m\u001b[0mrange\u001b[0m\u001b[0;34m(\u001b[0m\u001b[0mnb_epochs\u001b[0m\u001b[0;34m+\u001b[0m\u001b[0;36m1\u001b[0m\u001b[0;34m)\u001b[0m\u001b[0;34m)\u001b[0m\u001b[0;34m[\u001b[0m\u001b[0;36m1\u001b[0m\u001b[0;34m:\u001b[0m\u001b[0;34m]\u001b[0m\u001b[0;34m,\u001b[0m \u001b[0mval_loss\u001b[0m\u001b[0;34m)\u001b[0m\u001b[0;34m\u001b[0m\u001b[0;34m\u001b[0m\u001b[0m\n\u001b[1;32m      6\u001b[0m     \u001b[0mplt\u001b[0m\u001b[0;34m.\u001b[0m\u001b[0mlegend\u001b[0m\u001b[0;34m(\u001b[0m\u001b[0;34m[\u001b[0m\u001b[0;34m'train'\u001b[0m\u001b[0;34m,\u001b[0m \u001b[0;34m'val'\u001b[0m\u001b[0;34m]\u001b[0m\u001b[0;34m)\u001b[0m\u001b[0;34m\u001b[0m\u001b[0;34m\u001b[0m\u001b[0m\n",
            "\u001b[0;32m/usr/local/lib/python3.6/dist-packages/matplotlib/pyplot.py\u001b[0m in \u001b[0;36mplot\u001b[0;34m(scalex, scaley, data, *args, **kwargs)\u001b[0m\n\u001b[1;32m   2761\u001b[0m     return gca().plot(\n\u001b[1;32m   2762\u001b[0m         *args, scalex=scalex, scaley=scaley, **({\"data\": data} if data\n\u001b[0;32m-> 2763\u001b[0;31m         is not None else {}), **kwargs)\n\u001b[0m\u001b[1;32m   2764\u001b[0m \u001b[0;34m\u001b[0m\u001b[0m\n\u001b[1;32m   2765\u001b[0m \u001b[0;34m\u001b[0m\u001b[0m\n",
            "\u001b[0;32m/usr/local/lib/python3.6/dist-packages/matplotlib/axes/_axes.py\u001b[0m in \u001b[0;36mplot\u001b[0;34m(self, scalex, scaley, data, *args, **kwargs)\u001b[0m\n\u001b[1;32m   1645\u001b[0m         \"\"\"\n\u001b[1;32m   1646\u001b[0m         \u001b[0mkwargs\u001b[0m \u001b[0;34m=\u001b[0m \u001b[0mcbook\u001b[0m\u001b[0;34m.\u001b[0m\u001b[0mnormalize_kwargs\u001b[0m\u001b[0;34m(\u001b[0m\u001b[0mkwargs\u001b[0m\u001b[0;34m,\u001b[0m \u001b[0mmlines\u001b[0m\u001b[0;34m.\u001b[0m\u001b[0mLine2D\u001b[0m\u001b[0;34m)\u001b[0m\u001b[0;34m\u001b[0m\u001b[0;34m\u001b[0m\u001b[0m\n\u001b[0;32m-> 1647\u001b[0;31m         \u001b[0mlines\u001b[0m \u001b[0;34m=\u001b[0m \u001b[0;34m[\u001b[0m\u001b[0;34m*\u001b[0m\u001b[0mself\u001b[0m\u001b[0;34m.\u001b[0m\u001b[0m_get_lines\u001b[0m\u001b[0;34m(\u001b[0m\u001b[0;34m*\u001b[0m\u001b[0margs\u001b[0m\u001b[0;34m,\u001b[0m \u001b[0mdata\u001b[0m\u001b[0;34m=\u001b[0m\u001b[0mdata\u001b[0m\u001b[0;34m,\u001b[0m \u001b[0;34m**\u001b[0m\u001b[0mkwargs\u001b[0m\u001b[0;34m)\u001b[0m\u001b[0;34m]\u001b[0m\u001b[0;34m\u001b[0m\u001b[0;34m\u001b[0m\u001b[0m\n\u001b[0m\u001b[1;32m   1648\u001b[0m         \u001b[0;32mfor\u001b[0m \u001b[0mline\u001b[0m \u001b[0;32min\u001b[0m \u001b[0mlines\u001b[0m\u001b[0;34m:\u001b[0m\u001b[0;34m\u001b[0m\u001b[0;34m\u001b[0m\u001b[0m\n\u001b[1;32m   1649\u001b[0m             \u001b[0mself\u001b[0m\u001b[0;34m.\u001b[0m\u001b[0madd_line\u001b[0m\u001b[0;34m(\u001b[0m\u001b[0mline\u001b[0m\u001b[0;34m)\u001b[0m\u001b[0;34m\u001b[0m\u001b[0;34m\u001b[0m\u001b[0m\n",
            "\u001b[0;32m/usr/local/lib/python3.6/dist-packages/matplotlib/axes/_base.py\u001b[0m in \u001b[0;36m__call__\u001b[0;34m(self, *args, **kwargs)\u001b[0m\n\u001b[1;32m    214\u001b[0m                 \u001b[0mthis\u001b[0m \u001b[0;34m+=\u001b[0m \u001b[0margs\u001b[0m\u001b[0;34m[\u001b[0m\u001b[0;36m0\u001b[0m\u001b[0;34m]\u001b[0m\u001b[0;34m,\u001b[0m\u001b[0;34m\u001b[0m\u001b[0;34m\u001b[0m\u001b[0m\n\u001b[1;32m    215\u001b[0m                 \u001b[0margs\u001b[0m \u001b[0;34m=\u001b[0m \u001b[0margs\u001b[0m\u001b[0;34m[\u001b[0m\u001b[0;36m1\u001b[0m\u001b[0;34m:\u001b[0m\u001b[0;34m]\u001b[0m\u001b[0;34m\u001b[0m\u001b[0;34m\u001b[0m\u001b[0m\n\u001b[0;32m--> 216\u001b[0;31m             \u001b[0;32myield\u001b[0m \u001b[0;32mfrom\u001b[0m \u001b[0mself\u001b[0m\u001b[0;34m.\u001b[0m\u001b[0m_plot_args\u001b[0m\u001b[0;34m(\u001b[0m\u001b[0mthis\u001b[0m\u001b[0;34m,\u001b[0m \u001b[0mkwargs\u001b[0m\u001b[0;34m)\u001b[0m\u001b[0;34m\u001b[0m\u001b[0;34m\u001b[0m\u001b[0m\n\u001b[0m\u001b[1;32m    217\u001b[0m \u001b[0;34m\u001b[0m\u001b[0m\n\u001b[1;32m    218\u001b[0m     \u001b[0;32mdef\u001b[0m \u001b[0mget_next_color\u001b[0m\u001b[0;34m(\u001b[0m\u001b[0mself\u001b[0m\u001b[0;34m)\u001b[0m\u001b[0;34m:\u001b[0m\u001b[0;34m\u001b[0m\u001b[0;34m\u001b[0m\u001b[0m\n",
            "\u001b[0;32m/usr/local/lib/python3.6/dist-packages/matplotlib/axes/_base.py\u001b[0m in \u001b[0;36m_plot_args\u001b[0;34m(self, tup, kwargs)\u001b[0m\n\u001b[1;32m    340\u001b[0m \u001b[0;34m\u001b[0m\u001b[0m\n\u001b[1;32m    341\u001b[0m         \u001b[0;32mif\u001b[0m \u001b[0mx\u001b[0m\u001b[0;34m.\u001b[0m\u001b[0mshape\u001b[0m\u001b[0;34m[\u001b[0m\u001b[0;36m0\u001b[0m\u001b[0;34m]\u001b[0m \u001b[0;34m!=\u001b[0m \u001b[0my\u001b[0m\u001b[0;34m.\u001b[0m\u001b[0mshape\u001b[0m\u001b[0;34m[\u001b[0m\u001b[0;36m0\u001b[0m\u001b[0;34m]\u001b[0m\u001b[0;34m:\u001b[0m\u001b[0;34m\u001b[0m\u001b[0;34m\u001b[0m\u001b[0m\n\u001b[0;32m--> 342\u001b[0;31m             raise ValueError(f\"x and y must have same first dimension, but \"\n\u001b[0m\u001b[1;32m    343\u001b[0m                              f\"have shapes {x.shape} and {y.shape}\")\n\u001b[1;32m    344\u001b[0m         \u001b[0;32mif\u001b[0m \u001b[0mx\u001b[0m\u001b[0;34m.\u001b[0m\u001b[0mndim\u001b[0m \u001b[0;34m>\u001b[0m \u001b[0;36m2\u001b[0m \u001b[0;32mor\u001b[0m \u001b[0my\u001b[0m\u001b[0;34m.\u001b[0m\u001b[0mndim\u001b[0m \u001b[0;34m>\u001b[0m \u001b[0;36m2\u001b[0m\u001b[0;34m:\u001b[0m\u001b[0;34m\u001b[0m\u001b[0;34m\u001b[0m\u001b[0m\n",
            "\u001b[0;31mValueError\u001b[0m: x and y must have same first dimension, but have shapes (30,) and (10,)"
          ]
        },
        {
          "output_type": "display_data",
          "data": {
            "image/png": "[encoded data removed]",
            "text/plain": [
              "<Figure size 432x288 with 1 Axes>"
            ]
          },
          "metadata": {
            "tags": [],
            "needs_background": "light"
          }
        }
      ]
    },
    {
      "cell_type": "code",
      "metadata": {
        "id": "9hgQfbeOYD0l"
      },
      "source": [
        ""
      ],
      "execution_count": null,
      "outputs": []
    },
    {
      "cell_type": "code",
      "metadata": {
        "id": "xjy7kE4YYEM3"
      },
      "source": [
        "import torch.nn as nn\n",
        "        \n",
        "        \n",
        "ALPHA = 0.8\n",
        "GAMMA = 2\n",
        "\n",
        "class FocalDiceLoss(nn.Module):\n",
        "    def __init__(self, weight=None, size_average=True):\n",
        "        super(FocalLoss, self).__init__()\n",
        "\n",
        "    def forward(self, inputs, targets, alpha=ALPHA, gamma=GAMMA, smooth=1):\n",
        "        \n",
        "        #comment out if your model contains a sigmoid or equivalent activation layer\n",
        "        #inputs = F.sigmoid(inputs)       \n",
        "        \n",
        "        #flatten label and prediction tensors\n",
        "        inputs = inputs.view(-1)\n",
        "        targets = targets.view(-1)\n",
        "        \n",
        "        #DICE\n",
        "        intersection = (inputs * targets).sum()                            \n",
        "        dice = 1-(2.*intersection + smooth)/(inputs.sum() + targets.sum() + smooth) \n",
        "        \n",
        "        \n",
        "        #FOCAL\n",
        "        BCE = F.binary_cross_entropy(inputs, targets, reduction='mean')\n",
        "        BCE_EXP = torch.exp(-BCE)\n",
        "        focal_loss = alpha * (1-BCE_EXP)**gamma * BCE\n",
        "                       \n",
        "        #FINAL\n",
        "        final_loss=1\n",
        "        \n",
        "        return focal_loss      \n",
        "        \n",
        "    \n",
        "class DiceBCELoss(nn.Module):\n",
        "    def __init__(self, weight=None, size_average=True):\n",
        "        super(DiceBCELoss, self).__init__()\n",
        "\n",
        "    def forward(self, inputs, targets, smooth=1):\n",
        "        \n",
        "        \n",
        "        #comment out if your model contains a sigmoid or equivalent activation layer\n",
        "       # inputs = torch.sigmoid(inputs)       \n",
        "        \n",
        "        #flatten label and prediction tensors\n",
        "        inputs = inputs.view(-1)\n",
        "        targets = targets.view(-1)\n",
        "        \n",
        "        intersection = (inputs * targets).sum()                            \n",
        "        dice_loss = 1 - (2.*intersection + smooth)/(inputs.sum() + targets.sum() + smooth)  \n",
        "        BCE = F.binary_cross_entropy(inputs, targets, reduction='mean')\n",
        "        Dice_BCE = BCE + dice_loss\n",
        "        \n",
        "        return Dice_BCE\n",
        "\n",
        "\n",
        "class DiceLoss(nn.Module):\n",
        "    def __init__(self, weight=None, size_average=True):\n",
        "        super(DiceLoss, self).__init__()\n",
        "\n",
        "    def forward(self, inputs, targets, smooth=1):\n",
        "        \n",
        "        #comment out if your model contains a sigmoid or equivalent activation layer\n",
        "        #inputs = F.sigmoid(inputs)       \n",
        "        \n",
        "        #flatten label and prediction tensors\n",
        "        inputs = inputs.view(-1)\n",
        "        targets = targets.view(-1)\n",
        "        \n",
        "        intersection = (inputs * targets).sum()                            \n",
        "        dice = (2.*intersection + smooth)/(inputs.sum() + targets.sum() + smooth)  \n",
        "        \n",
        "        return 1 - dice\n",
        "\n",
        "\n",
        "class IoU(nn.Module):\n",
        "    def __init__(self, weight=None, size_average=True):\n",
        "        super(IoU, self).__init__()\n",
        "\n",
        "    def forward(self, inputs, targets, smooth=1):\n",
        "        \n",
        "        #comment out if your model contains a sigmoid or equivalent activation layer\n",
        "        #inputs = F.sigmoid(inputs)       \n",
        "        \n",
        "        #flatten label and prediction tensors\n",
        "        inputs = inputs.view(-1)\n",
        "        targets = targets.view(-1)\n",
        "        \n",
        "        #intersection is equivalent to True Positive count\n",
        "        #union is the mutually inclusive area of all labels & predictions \n",
        "        intersection = (inputs * targets).sum()\n",
        "        total = (inputs + targets).sum()\n",
        "        union = total - intersection \n",
        "        \n",
        "        IoU = (intersection + smooth)/(union + smooth)\n",
        "                \n",
        "        return IoU"
      ],
      "execution_count": null,
      "outputs": []
    },
    {
      "cell_type": "code",
      "metadata": {
        "id": "RTKb8EwHYEmJ"
      },
      "source": [
        "import torch\n",
        "import torch.nn as nn\n",
        "import torch.nn.functional as F\n",
        "\n",
        "\n",
        "# Utility Functions\n",
        "''' when filter kernel= 3x3, padding=1 makes in&out matrix same size'''\n",
        "def conv_bn_leru(in_channels, out_channels, kernel_size=3, stride=1, padding=1):\n",
        "    return nn.Sequential(\n",
        "            nn.Conv2d(in_channels, out_channels, kernel_size=kernel_size, stride=stride, padding=padding),\n",
        "            nn.BatchNorm2d(out_channels),\n",
        "            nn.ReLU(inplace=True),\n",
        "            nn.Conv2d(out_channels, out_channels, kernel_size=kernel_size, stride=stride, padding=padding),\n",
        "            nn.BatchNorm2d(out_channels),\n",
        "            nn.ReLU(inplace=True),\n",
        "    )\n",
        "\n",
        "def down_pooling():\n",
        "    return nn.MaxPool2d(2)\n",
        "\n",
        "def up_pooling(in_channels, out_channels, kernel_size=2, stride=2):\n",
        "    return nn.Sequential(\n",
        "        nn.ConvTranspose2d(in_channels, out_channels, kernel_size=kernel_size, stride=stride),\n",
        "        nn.BatchNorm2d(out_channels),\n",
        "        nn.ReLU(inplace=True)\n",
        "    )\n",
        "\n",
        "class UNet(nn.Module):\n",
        "    def __init__(self, input_channels, nclasses):\n",
        "        super().__init__()\n",
        "        # go down\n",
        "        self.conv1 = conv_bn_leru(input_channels,64)\n",
        "        self.conv2 = conv_bn_leru(64, 128)\n",
        "        self.conv3 = conv_bn_leru(128, 256)\n",
        "        self.conv4 = conv_bn_leru(256, 512)\n",
        "        self.conv5 = conv_bn_leru(512, 1024)\n",
        "        self.down_pooling = nn.MaxPool2d(2)\n",
        "\n",
        "        # go up\n",
        "        self.up_pool6 = up_pooling(1024, 512)\n",
        "        self.conv6 = conv_bn_leru(1024, 512)\n",
        "        self.up_pool7 = up_pooling(512, 256)\n",
        "        self.conv7 = conv_bn_leru(512, 256)\n",
        "        self.up_pool8 = up_pooling(256, 128)\n",
        "        self.conv8 = conv_bn_leru(256, 128)\n",
        "        self.up_pool9 = up_pooling(128, 64)\n",
        "        self.conv9 = conv_bn_leru(128, 64)\n",
        "\n",
        "        self.conv10 = nn.Conv2d(64, nclasses, 1)\n",
        "\n",
        "\n",
        "        # test weight init\n",
        "        for m in self.modules():\n",
        "            if isinstance(m, nn.Conv2d):\n",
        "                nn.init.kaiming_normal(m.weight.data, a=0, mode='fan_out')\n",
        "                if m.bias is not None:\n",
        "                    m.bias.data.zero_()\n",
        "\n",
        "\n",
        "    def forward(self, x):\n",
        "        # normalize input data\n",
        "        #x = x/255.\n",
        "        # go down\n",
        "        x1 = self.conv1(x)\n",
        "        p1 = self.down_pooling(x1)\n",
        "        x2 = self.conv2(p1)\n",
        "        p2 = self.down_pooling(x2)\n",
        "        x3 = self.conv3(p2)\n",
        "        p3 = self.down_pooling(x3)\n",
        "        x4 = self.conv4(p3)\n",
        "        p4 = self.down_pooling(x4)\n",
        "        x5 = self.conv5(p4)\n",
        "\n",
        "        # go up\n",
        "        p6 = self.up_pool6(x5)\n",
        "        x6 = torch.cat([p6, x4], dim=1)\n",
        "        x6 = self.conv6(x6)\n",
        "\n",
        "        p7 = self.up_pool7(x6)\n",
        "        x7 = torch.cat([p7, x3], dim=1)\n",
        "        x7 = self.conv7(x7)\n",
        "\n",
        "        p8 = self.up_pool8(x7)\n",
        "        x8 = torch.cat([p8, x2], dim=1)\n",
        "        x8 = self.conv8(x8)\n",
        "\n",
        "        p9 = self.up_pool9(x8)\n",
        "        x9 = torch.cat([p9, x1], dim=1)\n",
        "        x9 = self.conv9(x9)\n",
        "\n",
        "\n",
        "        output = self.conv10(x9)\n",
        "        output = F.sigmoid(output)\n",
        "\n",
        "        return output\n"
      ],
      "execution_count": null,
      "outputs": []
    },
    {
      "cell_type": "code",
      "metadata": {
        "id": "_InQ9d81Zpux"
      },
      "source": [
        ""
      ],
      "execution_count": null,
      "outputs": []
    },
    {
      "cell_type": "code",
      "metadata": {
        "colab": {
          "base_uri": "https://localhost:8080/"
        },
        "id": "DQNWwgcdY--D",
        "outputId": "eebbfdb0-f6f2-400e-d03d-5475f318f976"
      },
      "source": [
        "model2 = UNet(3,1).cuda()\n",
        "optimizer = torch.optim.Adam(model.parameters(),lr = 1e-2,weight_decay=0.0001)\n",
        "criterion = DiceBCELoss()\n",
        "accuracy_metric = IoU()\n",
        "num_epochs=30"
      ],
      "execution_count": null,
      "outputs": [
        {
          "output_type": "stream",
          "text": [
            "/usr/local/lib/python3.6/dist-packages/ipykernel_launcher.py:55: UserWarning: nn.init.kaiming_normal is now deprecated in favor of nn.init.kaiming_normal_.\n"
          ],
          "name": "stderr"
        }
      ]
    },
    {
      "cell_type": "code",
      "metadata": {
        "colab": {
          "base_uri": "https://localhost:8080/",
          "height": 260
        },
        "id": "OiNub_utZOvR",
        "outputId": "c9a483df-c87c-42c1-8330-f103ba1445d3"
      },
      "source": [
        "#import lovasz_losses as L\n",
        "#optimizer = torch.optim.SGD(model.parameters(),lr = 1e-3,weight_decay=0.0001,momentum=0.99)\n",
        "save_folder = 'drive/My Drive/FDLHW/Results_2'\n",
        "ff=open('{}/progress.txt'.format(save_folder),'w')\n",
        "total_train_loss = []\n",
        "total_train_score = []\n",
        "total_valid_loss = []\n",
        "total_valid_score = []\n",
        "\n",
        "losses_value = 0\n",
        "for epoch in range(10):\n",
        "    model.train()\n",
        "  \n",
        "    train_loss = []\n",
        "    train_score = []\n",
        "    valid_loss = []\n",
        "    valid_score = []\n",
        "    #<-----------Training Loop---------------------------->\n",
        "    p = tqdm(train_loader, desc = 'description')\n",
        "    for x_train, y_train in p:\n",
        "        x_train = torch.autograd.Variable(x_train).cuda()\n",
        "        y_train = torch.autograd.Variable(y_train).cuda()\n",
        "        optimizer.zero_grad()\n",
        "        output = model(x_train)\n",
        "        \n",
        "      #Loss\n",
        "        loss = criterion(output,y_train)\n",
        "        losses_value = loss.item()\n",
        "      #Score\n",
        "        score = accuracy_metric(output,y_train)\n",
        "        loss.backward()\n",
        "        optimizer.step()\n",
        "        train_loss.append(losses_value)\n",
        "        train_score.append(score.item())\n",
        "        #train_score.append(score)\n",
        "        p.set_description(f\"Epoch: {epoch+1}, loss: {losses_value}, IoU: {score}\")\n",
        "\n",
        "    #<---------------Validation Loop---------------------->\n",
        "    model.eval()\n",
        "    with torch.no_grad():\n",
        "        for image,mask in val_loader:\n",
        "            image = torch.autograd.Variable(image).cuda()\n",
        "            mask = torch.autograd.Variable(mask).cuda()\n",
        "            output = model(image)\n",
        "            \n",
        "        ## Compute Loss Value.\n",
        "            loss = criterion(output,mask)\n",
        "            losses_value = loss.item()\n",
        "        ## Compute Accuracy Score\n",
        "            score = accuracy_metric(output,mask)\n",
        "            valid_loss.append(losses_value)\n",
        "            valid_score.append(score.item())\n",
        "\n",
        "        total_train_loss.append(np.mean(train_loss))\n",
        "        total_train_score.append(np.mean(train_score))\n",
        "        total_valid_loss.append(np.mean(valid_loss))\n",
        "        total_valid_score.append(np.mean(valid_score))\n",
        "        print(f\"\\n###############Train Loss: {total_train_loss[-1]}, Train IOU: {total_train_score[-1]}###############\")\n",
        "        print(f\"###############Valid Loss: {total_valid_loss[-1]}, Valid IOU: {total_valid_score[-1]}###############\")\n",
        "        \n",
        "    write_results(ff, save_folder, epoch, total_train_score[-1], total_valid_score[-1], total_valid_loss[-1], total_valid_score[-1])\n",
        "\n",
        "    torch.save(model.state_dict(), save_folder + '/model_{}.pt'.format(epoch))\n",
        "save_graph(total_train_loss, total_val_loss, num_epochs, save_folder)\n",
        "   "
      ],
      "execution_count": null,
      "outputs": [
        {
          "output_type": "stream",
          "text": [
            "\rdescription:   0%|          | 0/100 [00:00<?, ?it/s]"
          ],
          "name": "stderr"
        },
        {
          "output_type": "error",
          "ename": "RuntimeError",
          "evalue": "ignored",
          "traceback": [
            "\u001b[0;31m---------------------------------------------------------------------------\u001b[0m",
            "\u001b[0;31mRuntimeError\u001b[0m                              Traceback (most recent call last)",
            "\u001b[0;32m<ipython-input-28-ec2867a02514>\u001b[0m in \u001b[0;36m<module>\u001b[0;34m()\u001b[0m\n\u001b[1;32m     26\u001b[0m       \u001b[0;31m#Loss\u001b[0m\u001b[0;34m\u001b[0m\u001b[0;34m\u001b[0m\u001b[0;34m\u001b[0m\u001b[0m\n\u001b[1;32m     27\u001b[0m         \u001b[0mloss\u001b[0m \u001b[0;34m=\u001b[0m \u001b[0mcriterion\u001b[0m\u001b[0;34m(\u001b[0m\u001b[0moutput\u001b[0m\u001b[0;34m,\u001b[0m\u001b[0my_train\u001b[0m\u001b[0;34m)\u001b[0m\u001b[0;34m\u001b[0m\u001b[0;34m\u001b[0m\u001b[0m\n\u001b[0;32m---> 28\u001b[0;31m         \u001b[0mlosses_value\u001b[0m \u001b[0;34m=\u001b[0m \u001b[0mloss\u001b[0m\u001b[0;34m.\u001b[0m\u001b[0mitem\u001b[0m\u001b[0;34m(\u001b[0m\u001b[0;34m)\u001b[0m\u001b[0;34m\u001b[0m\u001b[0;34m\u001b[0m\u001b[0m\n\u001b[0m\u001b[1;32m     29\u001b[0m       \u001b[0;31m#Score\u001b[0m\u001b[0;34m\u001b[0m\u001b[0;34m\u001b[0m\u001b[0;34m\u001b[0m\u001b[0m\n\u001b[1;32m     30\u001b[0m         \u001b[0mscore\u001b[0m \u001b[0;34m=\u001b[0m \u001b[0maccuracy_metric\u001b[0m\u001b[0;34m(\u001b[0m\u001b[0moutput\u001b[0m\u001b[0;34m,\u001b[0m\u001b[0my_train\u001b[0m\u001b[0;34m)\u001b[0m\u001b[0;34m\u001b[0m\u001b[0;34m\u001b[0m\u001b[0m\n",
            "\u001b[0;31mRuntimeError\u001b[0m: CUDA error: device-side assert triggered"
          ]
        }
      ]
    }
  ]
}